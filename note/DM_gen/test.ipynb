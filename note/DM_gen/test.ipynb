{
 "cells": [
  {
   "cell_type": "code",
   "execution_count": 1,
   "metadata": {},
   "outputs": [
    {
     "data": {
      "text/plain": [
       "(323, 1260, 4)"
      ]
     },
     "execution_count": 1,
     "metadata": {},
     "output_type": "execute_result"
    }
   ],
   "source": [
    "from PIL import Image\n",
    "import numpy as np\n",
    "import matplotlib.pyplot as plt\n",
    "\n",
    "img = Image.open('gen-oxford-flowers.png')\n",
    "img_arr = np.array(img)\n",
    "img_arr.shape"
   ]
  },
  {
   "cell_type": "code",
   "execution_count": 2,
   "metadata": {},
   "outputs": [
    {
     "name": "stdout",
     "output_type": "stream",
     "text": [
      "(646, 633, 4)\n"
     ]
    }
   ],
   "source": [
    "# 將矩陣 img_arr 的 dim = 0 的地方切成一半\n",
    "# 並將兩個在 dim = 0 的地方合併成一個矩陣\n",
    "\n",
    "# img_arr = np.array([[1, 2, 3], [4, 5, 6], [7, 8, 9]])\n",
    "# 切割矩陣\n",
    "img_arr_1 = img_arr[:,:img_arr.shape[1]//2+3]\n",
    "img_arr_2 = img_arr[:,img_arr.shape[1]//2-3:]\n",
    "\n",
    "# display(Image.fromarray(img_arr_1))\n",
    "# display(Image.fromarray(img_arr_2))\n",
    "# img_arr_1.shape, img_arr_2.shape\n",
    "\n",
    "# 合併矩陣\n",
    "img_arr_merge = np.concatenate((img_arr_1, img_arr_2), axis=0)\n",
    "\n",
    "print(img_arr_merge.shape)"
   ]
  },
  {
   "cell_type": "code",
   "execution_count": 3,
   "metadata": {},
   "outputs": [],
   "source": [
    "_ = Image.fromarray(img_arr_merge)"
   ]
  },
  {
   "cell_type": "code",
   "execution_count": 4,
   "metadata": {},
   "outputs": [],
   "source": [
    "_.save('gen-oxford-flowers1.png')"
   ]
  }
 ],
 "metadata": {
  "kernelspec": {
   "display_name": "base",
   "language": "python",
   "name": "python3"
  },
  "language_info": {
   "codemirror_mode": {
    "name": "ipython",
    "version": 3
   },
   "file_extension": ".py",
   "mimetype": "text/x-python",
   "name": "python",
   "nbconvert_exporter": "python",
   "pygments_lexer": "ipython3",
   "version": "3.10.6"
  }
 },
 "nbformat": 4,
 "nbformat_minor": 2
}
