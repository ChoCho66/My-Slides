{
 "cells": [
  {
   "cell_type": "code",
   "execution_count": 1,
   "metadata": {
    "vscode": {
     "languageId": "r"
    }
   },
   "outputs": [
    {
     "name": "stdout",
     "output_type": "stream",
     "text": [
      "[1] 1\n"
     ]
    }
   ],
   "source": [
    "print(1)"
   ]
  },
  {
   "cell_type": "code",
   "execution_count": 19,
   "metadata": {
    "vscode": {
     "languageId": "r"
    }
   },
   "outputs": [],
   "source": [
    "library(tinytable)\n",
    "\n",
    "options(digits = 3) # how many significant digits to print by default\n",
    "options(tinytable_print_output = \"markdown\")\n",
    "options(\"tinytable_tt_placement\" = \"H\") # for LaTeX"
   ]
  },
  {
   "cell_type": "code",
   "execution_count": 20,
   "metadata": {
    "vscode": {
     "languageId": "r"
    }
   },
   "outputs": [
    {
     "data": {
      "text/plain": [
       "\n",
       "\n",
       "+------+-----+------+-----+------+\n",
       "| mpg  | cyl | disp | hp  | drat |\n",
       "+======+=====+======+=====+======+\n",
       "| 21.0 | 6   | 160  | 110 | 3.90 |\n",
       "+------+-----+------+-----+------+\n",
       "| 21.0 | 6   | 160  | 110 | 3.90 |\n",
       "+------+-----+------+-----+------+\n",
       "| 22.8 | 4   | 108  |  93 | 3.85 |\n",
       "+------+-----+------+-----+------+\n",
       "| 21.4 | 6   | 258  | 110 | 3.08 |\n",
       "+------+-----+------+-----+------+\n",
       " "
      ]
     },
     "metadata": {},
     "output_type": "display_data"
    }
   ],
   "source": [
    "x <- mtcars[1:4, 1:5]\n",
    "tt(x)"
   ]
  },
  {
   "cell_type": "code",
   "execution_count": 21,
   "metadata": {
    "vscode": {
     "languageId": "r"
    }
   },
   "outputs": [
    {
     "data": {
      "text/plain": [
       "\n",
       "\n",
       "+------+-----+------+-----+------+\n",
       "| mpg  | cyl | disp | hp  | drat |\n",
       "+======+=====+======+=====+======+\n",
       "| 21.0 | 6   | 160  | 110 | 3.90 |\n",
       "+------+-----+------+-----+------+\n",
       "| 21.0 | 6   | 160  | 110 | 3.90 |\n",
       "+------+-----+------+-----+------+\n",
       "| 22.8 | 4   | 108  |  93 | 3.85 |\n",
       "+------+-----+------+-----+------+\n",
       "| 21.4 | 6   | 258  | 110 | 3.08 |\n",
       "+------+-----+------+-----+------+\n",
       " "
      ]
     },
     "metadata": {},
     "output_type": "display_data"
    }
   ],
   "source": [
    "#| label: table1\n",
    "tt(x, theme = \"striped\")"
   ]
  },
  {
   "cell_type": "code",
   "execution_count": 22,
   "metadata": {
    "vscode": {
     "languageId": "r"
    }
   },
   "outputs": [
    {
     "data": {
      "text/plain": [
       "\n",
       "\n",
       "+--------+--------+------------+-------+\n",
       "| w      | x      | y          | z     |\n",
       "+========+========+============+=======+\n",
       "| 143002 |   1.43 | 1971-01-19 | True  |\n",
       "+--------+--------+------------+-------+\n",
       "| 201399 | 201.4  | 1971-06-28 | True  |\n",
       "+--------+--------+------------+-------+\n",
       "| 100188 |   0.13 | 1970-01-14 | False |\n",
       "+--------+--------+------------+-------+\n",
       " "
      ]
     },
     "metadata": {},
     "output_type": "display_data"
    }
   ],
   "source": [
    "dat <- data.frame(\n",
    "     w = c(143002.2092, 201399.181, 100188.3883),\n",
    "     x = c(1.43402, 201.399, 0.134588),\n",
    "     y = as.Date(sample(1:1000, 3)),\n",
    "     z = c(TRUE, TRUE, FALSE))\n",
    "\n",
    "tt(dat, digits = 2)"
   ]
  },
  {
   "cell_type": "code",
   "execution_count": 23,
   "metadata": {
    "vscode": {
     "languageId": "r"
    }
   },
   "outputs": [
    {
     "data": {
      "text/plain": [
       "\n",
       "\n",
       "+-------------------+\n",
       "| Math              |\n",
       "+===================+\n",
       "| $x^2 + y^2 = z^2$ |\n",
       "+-------------------+\n",
       "| $\\frac{1}{2}$     |\n",
       "+-------------------+\n",
       " "
      ]
     },
     "metadata": {},
     "output_type": "display_data"
    }
   ],
   "source": [
    "#| label: table-math\n",
    "dat <- data.frame(Math = c(\n",
    "  \"$x^2 + y^2 = z^2$\",\n",
    "  \"$\\\\frac{1}{2}$\"\n",
    "))\n",
    "tt(dat) |> style_tt(j = 1, align = \"c\")"
   ]
  },
  {
   "cell_type": "code",
   "execution_count": 12,
   "metadata": {
    "vscode": {
     "languageId": "r"
    }
   },
   "outputs": [
    {
     "data": {
      "text/html": [
       "<table class=\"dataframe\">\n",
       "<caption>A data.frame: 7 x 2</caption>\n",
       "<thead>\n",
       "\t<tr><th scope=col>x</th><th scope=col>y</th></tr>\n",
       "\t<tr><th scope=col>&lt;dbl&gt;</th><th scope=col>&lt;dbl&gt;</th></tr>\n",
       "</thead>\n",
       "<tbody>\n",
       "\t<tr><td>1</td><td> 3</td></tr>\n",
       "\t<tr><td>2</td><td> 4</td></tr>\n",
       "\t<tr><td>3</td><td> 4</td></tr>\n",
       "\t<tr><td>4</td><td> 8</td></tr>\n",
       "\t<tr><td>5</td><td> 6</td></tr>\n",
       "\t<tr><td>6</td><td>10</td></tr>\n",
       "\t<tr><td>7</td><td>14</td></tr>\n",
       "</tbody>\n",
       "</table>\n"
      ],
      "text/latex": [
       "A data.frame: 7 x 2\n",
       "\\begin{tabular}{ll}\n",
       " x & y\\\\\n",
       " <dbl> & <dbl>\\\\\n",
       "\\hline\n",
       "\t 1 &  3\\\\\n",
       "\t 2 &  4\\\\\n",
       "\t 3 &  4\\\\\n",
       "\t 4 &  8\\\\\n",
       "\t 5 &  6\\\\\n",
       "\t 6 & 10\\\\\n",
       "\t 7 & 14\\\\\n",
       "\\end{tabular}\n"
      ],
      "text/markdown": [
       "\n",
       "A data.frame: 7 x 2\n",
       "\n",
       "| x &lt;dbl&gt; | y &lt;dbl&gt; |\n",
       "|---|---|\n",
       "| 1 |  3 |\n",
       "| 2 |  4 |\n",
       "| 3 |  4 |\n",
       "| 4 |  8 |\n",
       "| 5 |  6 |\n",
       "| 6 | 10 |\n",
       "| 7 | 14 |\n",
       "\n"
      ],
      "text/plain": [
       "  x y \n",
       "1 1  3\n",
       "2 2  4\n",
       "3 3  4\n",
       "4 4  8\n",
       "5 5  6\n",
       "6 6 10\n",
       "7 7 14"
      ]
     },
     "metadata": {},
     "output_type": "display_data"
    }
   ],
   "source": [
    "#create data frame\n",
    "df <- data.frame(x=c(1, 2, 3, 4, 5, 6, 7),\n",
    "                 y=c(3, 4, 4, 8, 6, 10, 14))\n",
    "\n",
    "#view data frame\n",
    "df"
   ]
  },
  {
   "cell_type": "code",
   "execution_count": 24,
   "metadata": {
    "vscode": {
     "languageId": "r"
    }
   },
   "outputs": [
    {
     "data": {
      "text/plain": [
       "\n",
       "\n",
       "Table: A table of the first 10 rows of the mtcars data.\n",
       "\n",
       "|                  |  mpg| cyl| disp|  hp| drat|   wt| qsec| vs|\n",
       "|:-----------------|----:|---:|----:|---:|----:|----:|----:|--:|\n",
       "|Mazda RX4         | 21.0|   6|  160| 110| 3.90| 2.62| 16.5|  0|\n",
       "|Mazda RX4 Wag     | 21.0|   6|  160| 110| 3.90| 2.88| 17.0|  0|\n",
       "|Datsun 710        | 22.8|   4|  108|  93| 3.85| 2.32| 18.6|  1|\n",
       "|Hornet 4 Drive    | 21.4|   6|  258| 110| 3.08| 3.21| 19.4|  1|\n",
       "|Hornet Sportabout | 18.7|   8|  360| 175| 3.15| 3.44| 17.0|  0|\n",
       "|Valiant           | 18.1|   6|  225| 105| 2.76| 3.46| 20.2|  1|\n",
       "|Duster 360        | 14.3|   8|  360| 245| 3.21| 3.57| 15.8|  0|\n",
       "|Merc 240D         | 24.4|   4|  147|  62| 3.69| 3.19| 20.0|  1|\n",
       "|Merc 230          | 22.8|   4|  141|  95| 3.92| 3.15| 22.9|  1|\n",
       "|Merc 280          | 19.2|   6|  168| 123| 3.92| 3.44| 18.3|  1|"
      ]
     },
     "metadata": {},
     "output_type": "display_data"
    }
   ],
   "source": [
    "knitr::kable(\n",
    "  head(mtcars[, 1:8], 10), booktabs = TRUE,\n",
    "  caption = 'A table of the first 10 rows of the mtcars data.'\n",
    ")"
   ]
  }
 ],
 "metadata": {
  "kernelspec": {
   "display_name": "R",
   "language": "R",
   "name": "ir"
  },
  "language_info": {
   "codemirror_mode": "r",
   "file_extension": ".r",
   "mimetype": "text/x-r-source",
   "name": "R",
   "pygments_lexer": "r",
   "version": "4.3.2"
  }
 },
 "nbformat": 4,
 "nbformat_minor": 2
}
